{
 "cells": [
  {
   "cell_type": "markdown",
   "id": "62052862-751a-4546-bcee-371be89f5d82",
   "metadata": {},
   "source": [
    "### Test if chromaDB works"
   ]
  },
  {
   "cell_type": "code",
   "execution_count": 25,
   "id": "2cc1fc07-dd8a-4538-85cf-672b45249f16",
   "metadata": {},
   "outputs": [],
   "source": [
    "import chromadb\n",
    "\n",
    "# initialize a client to interact with the Chroma database. \n",
    "client = chromadb.Client()\n",
    "\n",
    "# A collection in ChromaDB is a structured grouping that stores and organizes embeddings or data, \n",
    "# making it easier to perform searches, updates, or deletions on related data items.\n",
    "collection = client.create_collection(name=\"new_collection\")"
   ]
  },
  {
   "cell_type": "code",
   "execution_count": 27,
   "id": "4b4dab23-64b3-496b-812e-e08a82a14953",
   "metadata": {},
   "outputs": [],
   "source": [
    "# Adding Documents\n",
    "collection.add(\n",
    "    documents=[\n",
    "        \"This document is about Beijing\",\n",
    "        \"This document is about Vancouver\"\n",
    "    ],\n",
    "    ids = ['id1', 'id2']\n",
    ")"
   ]
  },
  {
   "cell_type": "code",
   "execution_count": 29,
   "id": "50d494d0-f15d-49c3-a256-c96c159a39c6",
   "metadata": {},
   "outputs": [
    {
     "data": {
      "text/plain": [
       "{'ids': ['id1', 'id2'],\n",
       " 'embeddings': None,\n",
       " 'documents': ['This document is about Beijing',\n",
       "  'This document is about Vancouver'],\n",
       " 'uris': None,\n",
       " 'data': None,\n",
       " 'metadatas': [None, None],\n",
       " 'included': [<IncludeEnum.documents: 'documents'>,\n",
       "  <IncludeEnum.metadatas: 'metadatas'>]}"
      ]
     },
     "execution_count": 29,
     "metadata": {},
     "output_type": "execute_result"
    }
   ],
   "source": [
    "# Retrieving All Documents\n",
    "all_docs = collection.get()\n",
    "all_docs"
   ]
  },
  {
   "cell_type": "code",
   "execution_count": 64,
   "id": "4f6e46e5-ec9b-4e97-a1dc-9668f09b79fc",
   "metadata": {},
   "outputs": [
    {
     "data": {
      "text/plain": [
       "{'ids': [['id3', 'id4']],\n",
       " 'embeddings': None,\n",
       " 'documents': [['This document is about Vancouver',\n",
       "   'This document is about Beijing']],\n",
       " 'uris': None,\n",
       " 'data': None,\n",
       " 'metadatas': [[{'url': 'https://en.wikipedia.org/wiki/Vancouver'},\n",
       "   {'url': 'https://en.wikipedia.org/wiki/Beijing'}]],\n",
       " 'distances': [[1.5409464836120605, 1.7852301597595215]],\n",
       " 'included': [<IncludeEnum.distances: 'distances'>,\n",
       "  <IncludeEnum.documents: 'documents'>,\n",
       "  <IncludeEnum.metadatas: 'metadatas'>]}"
      ]
     },
     "execution_count": 64,
     "metadata": {},
     "output_type": "execute_result"
    }
   ],
   "source": [
    "# test if the query works properly.\n",
    "# the document which is more relevant to the query will be returned first\n",
    "# relevancy is measured by distance, the lower distance, the more relevant\n",
    "\n",
    "results = collection.query(\n",
    "    query_texts=['Query is about UBC'],\n",
    "    n_results=2\n",
    ")\n",
    "results"
   ]
  },
  {
   "cell_type": "code",
   "execution_count": 66,
   "id": "f6c4b93e-6d65-4426-a6b4-fa394fd72ea8",
   "metadata": {},
   "outputs": [
    {
     "name": "stderr",
     "output_type": "stream",
     "text": [
      "Delete of nonexisting embedding ID: id1\n",
      "Delete of nonexisting embedding ID: id2\n",
      "Delete of nonexisting embedding ID: id1\n",
      "Delete of nonexisting embedding ID: id2\n"
     ]
    },
    {
     "data": {
      "text/plain": [
       "{'ids': ['id3', 'id4'],\n",
       " 'embeddings': None,\n",
       " 'documents': ['This document is about Vancouver',\n",
       "  'This document is about Beijing'],\n",
       " 'uris': None,\n",
       " 'data': None,\n",
       " 'metadatas': [{'url': 'https://en.wikipedia.org/wiki/Vancouver'},\n",
       "  {'url': 'https://en.wikipedia.org/wiki/Beijing'}],\n",
       " 'included': [<IncludeEnum.documents: 'documents'>,\n",
       "  <IncludeEnum.metadatas: 'metadatas'>]}"
      ]
     },
     "execution_count": 66,
     "metadata": {},
     "output_type": "execute_result"
    }
   ],
   "source": [
    "collection.delete(ids=all_docs['ids'])\n",
    "collection.get()"
   ]
  },
  {
   "cell_type": "code",
   "execution_count": 72,
   "id": "a5d25f72-ddab-40c4-b5c7-dc4e823d077c",
   "metadata": {},
   "outputs": [
    {
     "name": "stderr",
     "output_type": "stream",
     "text": [
      "Insert of existing embedding ID: id3\n",
      "Insert of existing embedding ID: id4\n",
      "Add of existing embedding ID: id3\n",
      "Add of existing embedding ID: id4\n"
     ]
    }
   ],
   "source": [
    "# test if adding metadata works -> if it works then we can later add portfolio links\n",
    "\n",
    "collection.add(\n",
    "    documents=[\n",
    "        \"This document is about Vancouver\",\n",
    "        \"This document is about Beijing\"\n",
    "    ],\n",
    "    ids=[\"id3\", \"id4\"],\n",
    "    metadatas=[\n",
    "        {\"url\": \"https://en.wikipedia.org/wiki/Vancouver\"},\n",
    "        {\"url\": \"https://en.wikipedia.org/wiki/Beijing\"}\n",
    "    ]\n",
    ")"
   ]
  },
  {
   "cell_type": "code",
   "execution_count": 82,
   "id": "34e2b822-dac6-4faa-87e2-29534804d2de",
   "metadata": {},
   "outputs": [
    {
     "data": {
      "text/plain": [
       "{'ids': [['id4', 'id3']],\n",
       " 'embeddings': None,\n",
       " 'documents': [['This document is about Beijing',\n",
       "   'This document is about Vancouver']],\n",
       " 'uris': None,\n",
       " 'data': None,\n",
       " 'metadatas': [[{'url': 'https://en.wikipedia.org/wiki/Beijing'},\n",
       "   {'url': 'https://en.wikipedia.org/wiki/Vancouver'}]],\n",
       " 'distances': [[0.7394739985466003, 1.3138021230697632]],\n",
       " 'included': [<IncludeEnum.distances: 'distances'>,\n",
       "  <IncludeEnum.documents: 'documents'>,\n",
       "  <IncludeEnum.metadatas: 'metadatas'>]}"
      ]
     },
     "execution_count": 82,
     "metadata": {},
     "output_type": "execute_result"
    }
   ],
   "source": [
    "results = collection.query(\n",
    "    query_texts=[\"Query is about peking\"],\n",
    "    n_results=2\n",
    ")\n",
    "results"
   ]
  },
  {
   "cell_type": "code",
   "execution_count": null,
   "id": "a2a680dd-d4e6-497a-8fcb-04c2f09f78b0",
   "metadata": {},
   "outputs": [],
   "source": []
  }
 ],
 "metadata": {
  "kernelspec": {
   "display_name": "Python 3 (ipykernel)",
   "language": "python",
   "name": "python3"
  },
  "language_info": {
   "codemirror_mode": {
    "name": "ipython",
    "version": 3
   },
   "file_extension": ".py",
   "mimetype": "text/x-python",
   "name": "python",
   "nbconvert_exporter": "python",
   "pygments_lexer": "ipython3",
   "version": "3.12.0"
  }
 },
 "nbformat": 4,
 "nbformat_minor": 5
}
